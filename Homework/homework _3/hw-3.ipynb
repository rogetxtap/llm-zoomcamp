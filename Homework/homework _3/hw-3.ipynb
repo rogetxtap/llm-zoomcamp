{
 "cells": [
  {
   "cell_type": "code",
   "execution_count": null,
   "id": "b49cdad2-c2d9-4cc6-9cd4-edf67908d8b2",
   "metadata": {},
   "outputs": [],
   "source": [
    "from sentence_transformers import SentenceTransformer"
   ]
  },
  {
   "cell_type": "code",
   "execution_count": null,
   "id": "4c7f6b92-7440-4f01-bb86-0961ffc6f573",
   "metadata": {},
   "outputs": [],
   "source": [
    "model_name = 'multi-qa-distilbert-cos-v1'\n",
    "model = SentenceTransformer(model_name)\n",
    "\n",
    "user_question = \"I just discovered the course. Can I still join it?\"\n",
    "user_question_embedding = model.encode(user_question)\n",
    "\n",
    "print(user_question_embedding[0])"
   ]
  },
  {
   "cell_type": "code",
   "execution_count": null,
   "id": "90922df3-be0d-4d71-9724-1a48a5ca4bec",
   "metadata": {},
   "outputs": [],
   "source": [
    "import requests"
   ]
  },
  {
   "cell_type": "code",
   "execution_count": null,
   "id": "36e28649-cf84-4c49-810c-b20571995ffc",
   "metadata": {},
   "outputs": [],
   "source": [
    "import requests\n",
    "\n",
    "base_url = 'https://github.com/DataTalksClub/llm-zoomcamp/blob/main'\n",
    "relative_url = '03-vector-search/eval/documents-with-ids.json'\n",
    "docs_url = f'{base_url}/{relative_url}?raw=1'\n",
    "\n",
    "docs_response = requests.get(docs_url)\n",
    "documents_raw = docs_response.json()\n",
    "\n",
    "documents = []\n",
    "\n",
    "for doc in documents_raw:\n",
    "    if doc.get('course') == 'machine-learning-zoomcamp':\n",
    "        documents.append(doc)"
   ]
  },
  {
   "cell_type": "code",
   "execution_count": null,
   "id": "5d6f5222-4575-4cc7-8514-b60fa03f104e",
   "metadata": {},
   "outputs": [],
   "source": [
    "import numpy as np\n",
    "from tqdm.auto import tqdm"
   ]
  },
  {
   "cell_type": "code",
   "execution_count": null,
   "id": "64b52ff9-fcee-4363-8406-2cd58bd5f81a",
   "metadata": {},
   "outputs": [],
   "source": [
    "embeddings = []\n",
    "for doc in tqdm(filtered_documents):\n",
    "    question = doc[\"question\"]\n",
    "    text = doc[\"text\"]\n",
    "    qa_text = f'{question} {text}'\n",
    "    qa_embedding = model.encode(qa_text)\n",
    "    embeddings.append(qa_embedding)\n",
    "\n",
    "X = np.array(embeddings)\n",
    "print(X.shape)"
   ]
  },
  {
   "cell_type": "code",
   "execution_count": null,
   "id": "a96a5882-32ea-40f8-b72b-17274cea832a",
   "metadata": {},
   "outputs": [],
   "source": [
    "scores = X.dot(user_question_embedding)\n",
    "\n",
    "highest_score = np.max(scores)\n",
    "print(highest_score)"
   ]
  },
  {
   "cell_type": "code",
   "execution_count": null,
   "id": "dcc6c3f9-cfcf-4e09-82fa-817e05930d62",
   "metadata": {},
   "outputs": [],
   "source": [
    "import numpy as np"
   ]
  },
  {
   "cell_type": "code",
   "execution_count": null,
   "id": "2a24ff98-7557-4663-a92d-de375325e6ad",
   "metadata": {},
   "outputs": [],
   "source": [
    "class VectorSearchEngine():\n",
    "    def __init__(self, documents, embeddings):\n",
    "        self.documents = documents\n",
    "        self.embeddings = embeddings\n",
    "\n",
    "    def search(self, v_query, num_results=10):\n",
    "        scores = self.embeddings.dot(v_query)\n",
    "        idx = np.argsort(-scores)[:num_results]\n",
    "        return [self.documents[i] for i in idx]"
   ]
  },
  {
   "cell_type": "code",
   "execution_count": null,
   "id": "3d83590f-d156-4b9b-a0db-e8342793fe0c",
   "metadata": {},
   "outputs": [],
   "source": [
    "search_engine = VectorSearchEngine(documents=documents, embeddings=X)\n",
    "search_engine.search(user_question_embedding, num_results=1)"
   ]
  },
  {
   "cell_type": "code",
   "execution_count": null,
   "id": "7ce66b97-86f0-4722-8cdf-17aaf209de47",
   "metadata": {},
   "outputs": [],
   "source": [
    "import pandas as pd"
   ]
  },
  {
   "cell_type": "code",
   "execution_count": null,
   "id": "39fe8aca-0ebc-4d42-8390-21a3c9d942e8",
   "metadata": {},
   "outputs": [],
   "source": [
    "base_url = 'https://github.com/DataTalksClub/llm-zoomcamp/blob/main'\n",
    "relative_url = '03-vector-search/eval/ground-truth-data.csv'\n",
    "ground_truth_url = f'{base_url}/{relative_url}?raw=1'\n",
    "\n",
    "df_ground_truth = pd.read_csv(ground_truth_url)\n",
    "df_ground_truth = df_ground_truth[df_ground_truth.course == 'machine-learning-zoomcamp']\n",
    "ground_truth = df_ground_truth.to_dict(orient='records')"
   ]
  },
  {
   "cell_type": "code",
   "execution_count": null,
   "id": "06ba8534-e98f-4132-ae57-7af0cb41d548",
   "metadata": {},
   "outputs": [],
   "source": [
    "def calculate_hitrate(ground_truth, search_engine, num_results):\n",
    "    cnt = 0\n",
    "    total = len(ground_truth)\n",
    "\n",
    "    for record in tqdm(ground_truth, desc=\"Calculating hitrate\"):\n",
    "        query_vector = model.encode(record['question'])\n",
    "        results = search_engine.search(query_vector, num_results)\n",
    "        if record['document'] in [result['id'] for result in results]:\n",
    "            cnt += 1\n",
    "\n",
    "    hitrate = cnt / total\n",
    "    return hitrate\n",
    "\n",
    "hitrate = calculate_hitrate(ground_truth, search_engine, num_results=5)\n",
    "print(f\"Hit-rate: {hitrate}\")"
   ]
  },
  {
   "cell_type": "code",
   "execution_count": null,
   "id": "c308eb98-89ba-4dab-8696-13d96f814af2",
   "metadata": {},
   "outputs": [],
   "source": [
    "from elasticsearch import Elasticsearch"
   ]
  },
  {
   "cell_type": "code",
   "execution_count": null,
   "id": "3099abaa-d1a9-4670-94b3-3d345dc9827c",
   "metadata": {},
   "outputs": [],
   "source": [
    "es_client1 = Elasticsearch('http://localhost:9200') \n",
    "es_client1.info()"
   ]
  },
  {
   "cell_type": "code",
   "execution_count": null,
   "id": "4d1bc114-48e4-4948-8796-2d75f2769c0c",
   "metadata": {},
   "outputs": [],
   "source": [
    "index_name = \"machine-learning-zoomcamp-2\"\n",
    "\n",
    "settings = {\n",
    "    \"settings\": {\n",
    "        \"index\": {\n",
    "            \"number_of_shards\": 1,\n",
    "            \"number_of_replicas\": 1\n",
    "        },\n",
    "        \"analysis\": {\n",
    "            \"analyzer\": {\n",
    "                \"vector_analyzer\": {\n",
    "                    \"type\": \"custom\",\n",
    "                    \"tokenizer\": \"standard\",\n",
    "                    \"filter\": [\"lowercase\"]\n",
    "                }\n",
    "            }\n",
    "        }\n",
    "    },\n",
    "    \"mappings\": {\n",
    "        \"properties\": {\n",
    "            \"vector\": {\n",
    "                \"type\": \"dense_vector\",\n",
    "                \"dims\": 768\n",
    "            },\n",
    "            \"title\": {\n",
    "                \"type\": \"text\",\n",
    "                \"analyzer\": \"vector_analyzer\"\n",
    "            }\n",
    "        }\n",
    "    }\n",
    "}\n",
    "\n",
    "es_client1.indices.create(index=index_name, body=settings)"
   ]
  },
  {
   "cell_type": "code",
   "execution_count": null,
   "id": "5c9ef4a8-ab12-4ae3-9607-bd4b6dfa05be",
   "metadata": {},
   "outputs": [],
   "source": [
    "!curl -X GET \"localhost:9200/course-questions/_mapping\""
   ]
  },
  {
   "cell_type": "code",
   "execution_count": null,
   "id": "312f9d33-2554-4295-b377-db5ed3efad44",
   "metadata": {},
   "outputs": [],
   "source": [
    "for i, doc in enumerate(df_ground_truth.to_dict(orient='records')):\n",
    "    print(doc.keys())\n",
    "    break"
   ]
  },
  {
   "cell_type": "code",
   "execution_count": null,
   "id": "52924a0f-2340-4070-befd-4cd50e7c4276",
   "metadata": {},
   "outputs": [],
   "source": [
    "for doc, vector in zip(df_ground_truth.to_dict(orient='records'), X):\n",
    "    body = {\n",
    "        \"vector\": vector.tolist(),\n",
    "        \"title\": doc[\"question\"]\n",
    "    }\n",
    "    es_client1.index(index=index_name, body=body)"
   ]
  },
  {
   "cell_type": "code",
   "execution_count": null,
   "id": "6fbd2d77-4817-4e51-98ee-e7b2e4461f2b",
   "metadata": {},
   "outputs": [],
   "source": [
    "def calculate_elastic_hitrate(ground_truth, es_client, index_name, model, num_results):\n",
    "    cnt = 0\n",
    "    total = len(ground_truth)\n",
    "\n",
    "    for record in tqdm(ground_truth, desc=\"Calculating Elasticsearch hitrate\"):\n",
    "        query_vector = model.encode(record['question']).tolist()\n",
    "        \n",
    "        script_query = {\n",
    "            \"script_score\": {\n",
    "                \"query\": {\"match_all\": {}},\n",
    "                \"script\": {\n",
    "                    \"source\": \"cosineSimilarity(params.query_vector, 'vector') + 1.0\",\n",
    "                    \"params\": {\"query_vector\": query_vector}\n",
    "                }\n",
    "            }\n",
    "        }\n",
    "\n",
    "        res = es_client.search(index=index_name, body={\"query\": script_query, \"size\": num_results})\n",
    "        \n",
    "        # Check if the correct document is in the top results.\n",
    "        if any(hit['_source']['title'] == record['question'] for hit in res['hits']['hits']):\n",
    "            cnt += 1\n",
    "\n",
    "    hitrate = cnt / total\n",
    "    return hitrate"
   ]
  },
  {
   "cell_type": "code",
   "execution_count": null,
   "id": "7aa5c3f8-d244-41b2-8882-6036a0065653",
   "metadata": {},
   "outputs": [],
   "source": [
    "# Calculate hitrate using Elasticsearch.\n",
    "elastic_hitrate = calculate_elastic_hitrate(ground_truth, es_client, index_name, model, num_results=5)\n",
    "print(f\"Elasticsearch Hit-rate: {elastic_hitrate}\")\n",
    "\n",
    "# Compare with the previous exact search hitrate.\n",
    "print(f\"Exact Search Hit-rate: {hitrate}\")"
   ]
  },
  {
   "cell_type": "code",
   "execution_count": null,
   "id": "e852744b-60c0-4b65-ba8d-8fb528188da5",
   "metadata": {},
   "outputs": [],
   "source": []
  }
 ],
 "metadata": {
  "kernelspec": {
   "display_name": "Python 3 (ipykernel)",
   "language": "python",
   "name": "python3"
  },
  "language_info": {
   "codemirror_mode": {
    "name": "ipython",
    "version": 3
   },
   "file_extension": ".py",
   "mimetype": "text/x-python",
   "name": "python",
   "nbconvert_exporter": "python",
   "pygments_lexer": "ipython3",
   "version": "3.9.19"
  }
 },
 "nbformat": 4,
 "nbformat_minor": 5
}
